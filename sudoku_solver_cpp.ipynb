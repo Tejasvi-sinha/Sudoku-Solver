{
  "nbformat": 4,
  "nbformat_minor": 0,
  "metadata": {
    "colab": {
      "provenance": [],
      "authorship_tag": "ABX9TyNQ+TKvJu27zmiClV/Bx6dq",
      "include_colab_link": true
    },
    "kernelspec": {
      "name": "python3",
      "display_name": "Python 3"
    },
    "language_info": {
      "name": "python"
    }
  },
  "cells": [
    {
      "cell_type": "markdown",
      "metadata": {
        "id": "view-in-github",
        "colab_type": "text"
      },
      "source": [
        "<a href=\"https://colab.research.google.com/github/Tejasvi-sinha/Sudoku-Solver/blob/main/sudoku_solver_cpp.ipynb\" target=\"_parent\"><img src=\"https://colab.research.google.com/assets/colab-badge.svg\" alt=\"Open In Colab\"/></a>"
      ]
    },
    {
      "cell_type": "code",
      "execution_count": 5,
      "metadata": {
        "colab": {
          "base_uri": "https://localhost:8080/"
        },
        "id": "8IKdtdQkGUPe",
        "outputId": "f721046f-e40b-43db-9a80-d5899d4d764c"
      },
      "outputs": [
        {
          "output_type": "stream",
          "name": "stdout",
          "text": [
            "Overwriting sudoku.cpp\n"
          ]
        }
      ],
      "source": [
        "%%writefile sudoku.cpp\n",
        "#include <iostream>\n",
        "#include <vector>\n",
        "\n",
        "using namespace std;\n",
        "\n",
        "// Function to print the Sudoku grid\n",
        "void printGrid(const vector<vector<int>>& grid) {\n",
        "    for (const auto& row : grid) {\n",
        "        for (int num : row) {\n",
        "            cout << num << \" \";\n",
        "        }\n",
        "        cout << endl;\n",
        "    }\n",
        "}\n",
        "\n",
        "// Check if it's safe to place a number in the given position\n",
        "bool isSafe(const vector<vector<int>>& grid, int row, int col, int num) {\n",
        "    // Check the row and column\n",
        "    for (int x = 0; x < 9; x++) {\n",
        "        if (grid[row][x] == num || grid[x][col] == num) {\n",
        "            return false;\n",
        "        }\n",
        "    }\n",
        "\n",
        "    // Check the 3x3 sub-grid\n",
        "    int startRow = row - row % 3, startCol = col - col % 3;\n",
        "    for (int i = 0; i < 3; i++) {\n",
        "        for (int j = 0; j < 3; j++) {\n",
        "            if (grid[i + startRow][j + startCol] == num) {\n",
        "                return false;\n",
        "            }\n",
        "        }\n",
        "    }\n",
        "    return true;\n",
        "}\n",
        "\n",
        "// Solve the Sudoku puzzle using backtracking\n",
        "bool solveSudoku(vector<vector<int>>& grid) {\n",
        "    for (int row = 0; row < 9; row++) {\n",
        "        for (int col = 0; col < 9; col++) {\n",
        "            if (grid[row][col] == 0) { // Find an empty space\n",
        "                for (int num = 1; num <= 9; num++) {\n",
        "                    if (isSafe(grid, row, col, num)) {\n",
        "                        grid[row][col] = num; // Place the number\n",
        "                        if (solveSudoku(grid)) { // Recur\n",
        "                            return true;\n",
        "                        }\n",
        "                        grid[row][col] = 0; // Backtrack\n",
        "                    }\n",
        "                }\n",
        "                return false; // No valid number found, backtrack\n",
        "            }\n",
        "        }\n",
        "    }\n",
        "    return true; // Solved\n",
        "}\n",
        "\n",
        "int main() {\n",
        "    vector<vector<int>> grid = {\n",
        "        {5, 3, 0, 0, 7, 0, 0, 0, 0},\n",
        "        {6, 0, 0, 1, 9, 5, 0, 0, 0},\n",
        "        {0, 9, 8, 0, 0, 0, 0, 6, 0},\n",
        "        {8, 0, 0, 0, 6, 0, 0, 0, 3},\n",
        "        {4, 0, 0, 8, 0, 3, 0, 0, 1},\n",
        "        {7, 0, 0, 0, 2, 0, 0, 0, 6},\n",
        "        {0, 6, 0, 0, 0, 0, 2, 8, 0},\n",
        "        {0, 0, 0, 4, 1, 9, 0, 0, 5},\n",
        "        {0, 0, 0, 0, 8, 0, 0, 7, 9}\n",
        "    };\n",
        "\n",
        "    cout << \"Original Sudoku grid:\" << endl;\n",
        "    printGrid(grid);\n",
        "\n",
        "    if (solveSudoku(grid)) {\n",
        "        cout << \"Solved Sudoku grid:\" << endl;\n",
        "        printGrid(grid);\n",
        "    } else {\n",
        "        cout << \"No solution exists.\" << endl;\n",
        "    }\n",
        "\n",
        "    return 0;\n",
        "}\n"
      ]
    },
    {
      "source": [
        "%%script bash\n",
        "    ls -l"
      ],
      "cell_type": "code",
      "metadata": {
        "colab": {
          "base_uri": "https://localhost:8080/"
        },
        "id": "Avqnd_QcHdD1",
        "outputId": "ed55bbbc-9d23-43af-c4ba-9e74cbfb4e0a"
      },
      "execution_count": 15,
      "outputs": [
        {
          "output_type": "stream",
          "name": "stdout",
          "text": [
            "total 8\n",
            "drwxr-xr-x 1 root root 4096 Oct 10 13:27 sample_data\n",
            "-rw-r--r-- 1 root root 2299 Oct 13 18:22 sudoku.cpp\n"
          ]
        }
      ]
    },
    {
      "source": [
        "%%script bash\n",
        "    g++ /content/sudoku.cpp -o sudoku"
      ],
      "cell_type": "code",
      "metadata": {
        "id": "jGw7RygCIM0W"
      },
      "execution_count": 17,
      "outputs": []
    },
    {
      "source": [
        "%%script bash\n",
        "    ./sudoku"
      ],
      "cell_type": "code",
      "metadata": {
        "colab": {
          "base_uri": "https://localhost:8080/"
        },
        "id": "1oBQxs2HIpiy",
        "outputId": "62a35268-8a06-4f18-b6a5-65e65a6c9a31"
      },
      "execution_count": 19,
      "outputs": [
        {
          "output_type": "stream",
          "name": "stdout",
          "text": [
            "Original Sudoku grid:\n",
            "5 3 0 0 7 0 0 0 0 \n",
            "6 0 0 1 9 5 0 0 0 \n",
            "0 9 8 0 0 0 0 6 0 \n",
            "8 0 0 0 6 0 0 0 3 \n",
            "4 0 0 8 0 3 0 0 1 \n",
            "7 0 0 0 2 0 0 0 6 \n",
            "0 6 0 0 0 0 2 8 0 \n",
            "0 0 0 4 1 9 0 0 5 \n",
            "0 0 0 0 8 0 0 7 9 \n",
            "Solved Sudoku grid:\n",
            "5 3 4 6 7 8 9 1 2 \n",
            "6 7 2 1 9 5 3 4 8 \n",
            "1 9 8 3 4 2 5 6 7 \n",
            "8 5 9 7 6 1 4 2 3 \n",
            "4 2 6 8 5 3 7 9 1 \n",
            "7 1 3 9 2 4 8 5 6 \n",
            "9 6 1 5 3 7 2 8 4 \n",
            "2 8 7 4 1 9 6 3 5 \n",
            "3 4 5 2 8 6 1 7 9 \n"
          ]
        }
      ]
    },
    {
      "cell_type": "markdown",
      "source": [
        "# New Section"
      ],
      "metadata": {
        "id": "aBTl1UyuGZPo"
      }
    },
    {
      "cell_type": "code",
      "source": [],
      "metadata": {
        "id": "ZKnAmF1NGXAb"
      },
      "execution_count": null,
      "outputs": []
    }
  ]
}